{
 "cells": [
  {
   "cell_type": "code",
   "execution_count": 1,
   "id": "8bbf75e8",
   "metadata": {},
   "outputs": [],
   "source": [
    "import os\n",
    "import cv2\n",
    "import numpy as np\n",
    "import matplotlib.pyplot as plt\n",
    "from sklearn.model_selection import train_test_split"
   ]
  },
  {
   "cell_type": "code",
   "execution_count": 2,
   "id": "852411f4",
   "metadata": {},
   "outputs": [],
   "source": [
    "path = r'C:\\Users\\maver\\OneDrive\\Documents\\Giridhar\\sem6\\tarp\\mrlEyes_2018_01'"
   ]
  },
  {
   "cell_type": "code",
   "execution_count": 11,
   "id": "de7c61a4",
   "metadata": {},
   "outputs": [
    {
     "name": "stdout",
     "output_type": "stream",
     "text": [
      "['s0001', 's0002', 's0003', 's0004', 's0005', 's0006', 's0007', 's0008', 's0009', 's0010', 's0011', 's0012', 's0013', 's0014', 's0015', 's0016', 's0017', 's0018', 's0019', 's0020', 's0021', 's0022', 's0023', 's0024', 's0025', 's0026', 's0027', 's0028', 's0029', 's0030', 's0031', 's0032', 's0033', 's0034', 's0035', 's0036', 's0037']\n",
      "[]\n",
      "[]\n",
      "[]\n",
      "[]\n",
      "[]\n",
      "[]\n",
      "[]\n",
      "[]\n",
      "[]\n",
      "[]\n",
      "[]\n",
      "[]\n",
      "[]\n",
      "[]\n",
      "[]\n",
      "[]\n",
      "[]\n",
      "[]\n",
      "[]\n",
      "[]\n",
      "[]\n",
      "[]\n",
      "[]\n",
      "[]\n",
      "[]\n",
      "[]\n",
      "[]\n",
      "[]\n",
      "[]\n",
      "[]\n",
      "[]\n",
      "[]\n",
      "[]\n",
      "[]\n",
      "[]\n",
      "[]\n",
      "[]\n"
     ]
    }
   ],
   "source": [
    "# train_data = []\n",
    "# for (root,dirs,files) in os.walk(path, topdown=True):\n",
    "#     print(dirs)\n",
    "#     for i in files:\n",
    "#         path = os.path.join(root,i)\n",
    "#         if path[-3:]=='png':\n",
    "#             try:\n",
    "#                 img = cv2.imread(path)\n",
    "#                 img=cv2.resize(img,(150,150))\n",
    "#                 train_data.append([img,int(path[-12])])\n",
    "#             except:\n",
    "#                 pass    "
   ]
  },
  {
   "cell_type": "code",
   "execution_count": 12,
   "id": "f96d814f",
   "metadata": {},
   "outputs": [],
   "source": [
    "# import random\n",
    "# random.shuffle(train_data)"
   ]
  },
  {
   "cell_type": "code",
   "execution_count": 13,
   "id": "c65d20e2",
   "metadata": {},
   "outputs": [],
   "source": [
    "# X = []\n",
    "# Y = []\n",
    "# for i,j in train_data:\n",
    "#     X.append(i)\n",
    "#     Y.append(j)"
   ]
  },
  {
   "cell_type": "code",
   "execution_count": 14,
   "id": "a2237244",
   "metadata": {},
   "outputs": [],
   "source": [
    "# X = np.array(X)\n",
    "# Y = np.array(Y)"
   ]
  },
  {
   "cell_type": "code",
   "execution_count": 15,
   "id": "b1554d19",
   "metadata": {},
   "outputs": [
    {
     "data": {
      "text/plain": [
       "(84898, 150, 150, 3)"
      ]
     },
     "execution_count": 15,
     "metadata": {},
     "output_type": "execute_result"
    }
   ],
   "source": [
    "# X.shape"
   ]
  },
  {
   "cell_type": "code",
   "execution_count": 16,
   "id": "6ab13e0d",
   "metadata": {},
   "outputs": [],
   "source": [
    "# import pickle\n",
    "# pickle_out=open(\"X_full.pickle\",\"wb\")\n",
    "# pickle.dump(X,pickle_out)\n",
    "# pickle_out.close()\n",
    "# pickle_out=open(\"Y_full.pickle\",\"wb\")\n",
    "# pickle.dump(Y,pickle_out)\n",
    "# pickle_out.close()"
   ]
  },
  {
   "cell_type": "code",
   "execution_count": 6,
   "id": "b2f0945a",
   "metadata": {},
   "outputs": [],
   "source": [
    "import pickle\n",
    "pickle_in=open(\"X_full.pickle\",\"rb\")\n",
    "X=pickle.load(pickle_in)\n",
    "pickle_in.close()\n",
    "pickle_in=open(\"Y_full.pickle\",\"rb\")\n",
    "Y=pickle.load(pickle_in)\n",
    "pickle_in.close()"
   ]
  },
  {
   "cell_type": "code",
   "execution_count": 7,
   "id": "a282f863",
   "metadata": {},
   "outputs": [],
   "source": [
    "X = np.array(X)\n",
    "Y = np.array(Y)"
   ]
  },
  {
   "cell_type": "code",
   "execution_count": 8,
   "id": "d69232b4",
   "metadata": {},
   "outputs": [],
   "source": [
    "X_train, X_test, Y_train, Y_test =  train_test_split(X,Y,test_size=0.6)"
   ]
  },
  {
   "cell_type": "code",
   "execution_count": 9,
   "id": "2fcc733e",
   "metadata": {},
   "outputs": [],
   "source": [
    "X_val, x_test, Y_val, y_test = train_test_split(X_test,Y_test,test_size=0.5)"
   ]
  },
  {
   "cell_type": "code",
   "execution_count": 11,
   "id": "adc1a356",
   "metadata": {},
   "outputs": [
    {
     "data": {
      "text/plain": [
       "(33959, 150, 150, 3)"
      ]
     },
     "execution_count": 11,
     "metadata": {},
     "output_type": "execute_result"
    }
   ],
   "source": [
    "X_train.shape"
   ]
  },
  {
   "cell_type": "code",
   "execution_count": 12,
   "id": "bbd8b3d8",
   "metadata": {},
   "outputs": [
    {
     "data": {
      "text/plain": [
       "(25470, 150, 150, 3)"
      ]
     },
     "execution_count": 12,
     "metadata": {},
     "output_type": "execute_result"
    }
   ],
   "source": [
    "x_test.shape"
   ]
  },
  {
   "cell_type": "code",
   "execution_count": 13,
   "id": "ca20cdf6",
   "metadata": {},
   "outputs": [],
   "source": [
    "from tensorflow.keras import models\n",
    "from tensorflow.keras.models import Sequential, load_model\n",
    "from keras.layers import Dense, Flatten, Conv2D, MaxPooling2D, BatchNormalization, Dropout\n",
    "from tensorflow.keras.callbacks import EarlyStopping, ReduceLROnPlateau, TensorBoard, ModelCheckpoint"
   ]
  },
  {
   "cell_type": "code",
   "execution_count": 18,
   "id": "cbaa0ac2",
   "metadata": {},
   "outputs": [
    {
     "name": "stdout",
     "output_type": "stream",
     "text": [
      "Model: \"sequential_1\"\n",
      "_________________________________________________________________\n",
      " Layer (type)                Output Shape              Param #   \n",
      "=================================================================\n",
      " conv2d_8 (Conv2D)           (None, 149, 149, 64)      832       \n",
      "                                                                 \n",
      " batch_normalization_5 (Batc  (None, 149, 149, 64)     256       \n",
      " hNormalization)                                                 \n",
      "                                                                 \n",
      " max_pooling2d_5 (MaxPooling  (None, 74, 74, 64)       0         \n",
      " 2D)                                                             \n",
      "                                                                 \n",
      " conv2d_9 (Conv2D)           (None, 73, 73, 32)        8224      \n",
      "                                                                 \n",
      " conv2d_10 (Conv2D)          (None, 72, 72, 32)        4128      \n",
      "                                                                 \n",
      " batch_normalization_6 (Batc  (None, 72, 72, 32)       128       \n",
      " hNormalization)                                                 \n",
      "                                                                 \n",
      " max_pooling2d_6 (MaxPooling  (None, 36, 36, 32)       0         \n",
      " 2D)                                                             \n",
      "                                                                 \n",
      " conv2d_11 (Conv2D)          (None, 35, 35, 16)        2064      \n",
      "                                                                 \n",
      " conv2d_12 (Conv2D)          (None, 34, 34, 16)        1040      \n",
      "                                                                 \n",
      " batch_normalization_7 (Batc  (None, 34, 34, 16)       64        \n",
      " hNormalization)                                                 \n",
      "                                                                 \n",
      " max_pooling2d_7 (MaxPooling  (None, 17, 17, 16)       0         \n",
      " 2D)                                                             \n",
      "                                                                 \n",
      " conv2d_13 (Conv2D)          (None, 15, 15, 32)        4640      \n",
      "                                                                 \n",
      " conv2d_14 (Conv2D)          (None, 13, 13, 32)        9248      \n",
      "                                                                 \n",
      " batch_normalization_8 (Batc  (None, 13, 13, 32)       128       \n",
      " hNormalization)                                                 \n",
      "                                                                 \n",
      " max_pooling2d_8 (MaxPooling  (None, 6, 6, 32)         0         \n",
      " 2D)                                                             \n",
      "                                                                 \n",
      " conv2d_15 (Conv2D)          (None, 4, 4, 16)          4624      \n",
      "                                                                 \n",
      " batch_normalization_9 (Batc  (None, 4, 4, 16)         64        \n",
      " hNormalization)                                                 \n",
      "                                                                 \n",
      " max_pooling2d_9 (MaxPooling  (None, 2, 2, 16)         0         \n",
      " 2D)                                                             \n",
      "                                                                 \n",
      " dense_2 (Dense)             (None, 2, 2, 8)           136       \n",
      "                                                                 \n",
      " flatten_1 (Flatten)         (None, 32)                0         \n",
      "                                                                 \n",
      " dense_3 (Dense)             (None, 2)                 66        \n",
      "                                                                 \n",
      "=================================================================\n",
      "Total params: 35,642\n",
      "Trainable params: 35,322\n",
      "Non-trainable params: 320\n",
      "_________________________________________________________________\n",
      "None\n"
     ]
    }
   ],
   "source": [
    "model1 = Sequential()\n",
    "model1.add(Conv2D(64,(2,2),input_shape=(150,150,3)))\n",
    "model1.add(BatchNormalization())\n",
    "model1.add(MaxPooling2D(2,2))\n",
    "\n",
    "model1.add(Conv2D(32,(2,2), activation='relu'))\n",
    "model1.add(Conv2D(32,(2,2), activation='relu'))\n",
    "model1.add(BatchNormalization())\n",
    "model1.add(MaxPooling2D(2,2))\n",
    "\n",
    "model1.add(Conv2D(16,(2,2), activation='relu'))\n",
    "model1.add(Conv2D(16,(2,2), activation='relu'))\n",
    "model1.add(BatchNormalization())\n",
    "model1.add(MaxPooling2D(2,2))\n",
    "\n",
    "model1.add(Conv2D(32,(3,3), activation='relu'))\n",
    "model1.add(Conv2D(32,(3,3), activation='relu'))\n",
    "model1.add(BatchNormalization())\n",
    "model1.add(MaxPooling2D(2,2))\n",
    "\n",
    "model1.add(Conv2D(16,(3,3), activation='relu'))\n",
    "model1.add(BatchNormalization())\n",
    "model1.add(MaxPooling2D(2,2))\n",
    "model1.add(Dense(8,activation='relu'))\n",
    "model1.add(Flatten())\n",
    "\n",
    "model1.add(Dense(2,activation='softmax'))\n",
    "\n",
    "model1.compile(loss = 'sparse_categorical_crossentropy', optimizer = 'Adam', metrics = ['accuracy'])\n",
    "print(model1.summary())"
   ]
  },
  {
   "cell_type": "code",
   "execution_count": 19,
   "id": "a51cb5da",
   "metadata": {},
   "outputs": [],
   "source": [
    "checkpoint = ModelCheckpoint(\"prediction.h5\", monitor = \"val_accuracy\", save_best_only = True, \n",
    "                             mode = \"auto\", verbose = 1)"
   ]
  },
  {
   "cell_type": "code",
   "execution_count": 20,
   "id": "e90b2fc3",
   "metadata": {},
   "outputs": [
    {
     "name": "stdout",
     "output_type": "stream",
     "text": [
      "Epoch 1/20\n",
      "1062/1062 [==============================] - ETA: 0s - loss: 0.1608 - accuracy: 0.9389\n",
      "Epoch 1: val_accuracy improved from -inf to 0.94601, saving model to prediction.h5\n",
      "1062/1062 [==============================] - 811s 762ms/step - loss: 0.1608 - accuracy: 0.9389 - val_loss: 0.1488 - val_accuracy: 0.9460\n",
      "Epoch 2/20\n",
      "1062/1062 [==============================] - ETA: 0s - loss: 0.0785 - accuracy: 0.9713\n",
      "Epoch 2: val_accuracy did not improve from 0.94601\n",
      "1062/1062 [==============================] - 754s 710ms/step - loss: 0.0785 - accuracy: 0.9713 - val_loss: 0.1733 - val_accuracy: 0.9173\n",
      "Epoch 3/20\n",
      "1062/1062 [==============================] - ETA: 0s - loss: 0.0621 - accuracy: 0.9775\n",
      "Epoch 3: val_accuracy did not improve from 0.94601\n",
      "1062/1062 [==============================] - 751s 707ms/step - loss: 0.0621 - accuracy: 0.9775 - val_loss: 0.1831 - val_accuracy: 0.9247\n",
      "Epoch 4/20\n",
      "1062/1062 [==============================] - ETA: 0s - loss: 0.0540 - accuracy: 0.9798\n",
      "Epoch 4: val_accuracy improved from 0.94601 to 0.96779, saving model to prediction.h5\n",
      "1062/1062 [==============================] - 743s 700ms/step - loss: 0.0540 - accuracy: 0.9798 - val_loss: 0.0917 - val_accuracy: 0.9678\n",
      "Epoch 5/20\n",
      "1062/1062 [==============================] - ETA: 0s - loss: 0.0459 - accuracy: 0.9837\n",
      "Epoch 5: val_accuracy did not improve from 0.96779\n",
      "1062/1062 [==============================] - 744s 701ms/step - loss: 0.0459 - accuracy: 0.9837 - val_loss: 0.1425 - val_accuracy: 0.9406\n",
      "Epoch 6/20\n",
      "1062/1062 [==============================] - ETA: 0s - loss: 0.0419 - accuracy: 0.9847\n",
      "Epoch 6: val_accuracy improved from 0.96779 to 0.97917, saving model to prediction.h5\n",
      "1062/1062 [==============================] - 772s 727ms/step - loss: 0.0419 - accuracy: 0.9847 - val_loss: 0.0636 - val_accuracy: 0.9792\n",
      "Epoch 7/20\n",
      "1062/1062 [==============================] - ETA: 0s - loss: 0.0389 - accuracy: 0.9855\n",
      "Epoch 7: val_accuracy did not improve from 0.97917\n",
      "1062/1062 [==============================] - 727s 685ms/step - loss: 0.0389 - accuracy: 0.9855 - val_loss: 0.3473 - val_accuracy: 0.8406\n",
      "Epoch 8/20\n",
      "1062/1062 [==============================] - ETA: 0s - loss: 0.0379 - accuracy: 0.9859\n",
      "Epoch 8: val_accuracy did not improve from 0.97917\n",
      "1062/1062 [==============================] - 693s 653ms/step - loss: 0.0379 - accuracy: 0.9859 - val_loss: 0.0754 - val_accuracy: 0.9726\n",
      "Epoch 9/20\n",
      "1062/1062 [==============================] - ETA: 0s - loss: 0.0334 - accuracy: 0.9883\n",
      "Epoch 9: val_accuracy did not improve from 0.97917\n",
      "1062/1062 [==============================] - 690s 650ms/step - loss: 0.0334 - accuracy: 0.9883 - val_loss: 0.1555 - val_accuracy: 0.9376\n",
      "Epoch 10/20\n",
      "1062/1062 [==============================] - ETA: 0s - loss: 0.0314 - accuracy: 0.9879\n",
      "Epoch 10: val_accuracy did not improve from 0.97917\n",
      "1062/1062 [==============================] - 692s 652ms/step - loss: 0.0314 - accuracy: 0.9879 - val_loss: 0.1095 - val_accuracy: 0.9573\n",
      "Epoch 11/20\n",
      "1062/1062 [==============================] - ETA: 0s - loss: 0.0289 - accuracy: 0.9891\n",
      "Epoch 11: val_accuracy did not improve from 0.97917\n",
      "1062/1062 [==============================] - 694s 653ms/step - loss: 0.0289 - accuracy: 0.9891 - val_loss: 0.1689 - val_accuracy: 0.9235\n",
      "Epoch 12/20\n",
      "1062/1062 [==============================] - ETA: 0s - loss: 0.0273 - accuracy: 0.9898\n",
      "Epoch 12: val_accuracy did not improve from 0.97917\n",
      "1062/1062 [==============================] - 699s 658ms/step - loss: 0.0273 - accuracy: 0.9898 - val_loss: 0.0909 - val_accuracy: 0.9651\n",
      "Epoch 13/20\n",
      "1062/1062 [==============================] - ETA: 0s - loss: 0.0272 - accuracy: 0.9898\n",
      "Epoch 13: val_accuracy did not improve from 0.97917\n",
      "1062/1062 [==============================] - 719s 677ms/step - loss: 0.0272 - accuracy: 0.9898 - val_loss: 0.0660 - val_accuracy: 0.9770\n",
      "Epoch 14/20\n",
      "1062/1062 [==============================] - ETA: 0s - loss: 0.0233 - accuracy: 0.9911\n",
      "Epoch 14: val_accuracy did not improve from 0.97917\n",
      "1062/1062 [==============================] - 704s 663ms/step - loss: 0.0233 - accuracy: 0.9911 - val_loss: 0.1024 - val_accuracy: 0.9611\n",
      "Epoch 15/20\n",
      "1062/1062 [==============================] - ETA: 0s - loss: 0.0226 - accuracy: 0.9915\n",
      "Epoch 15: val_accuracy improved from 0.97917 to 0.98263, saving model to prediction.h5\n",
      "1062/1062 [==============================] - 722s 680ms/step - loss: 0.0226 - accuracy: 0.9915 - val_loss: 0.0485 - val_accuracy: 0.9826\n",
      "Epoch 16/20\n",
      "1062/1062 [==============================] - ETA: 0s - loss: 0.0227 - accuracy: 0.9916\n",
      "Epoch 16: val_accuracy improved from 0.98263 to 0.98449, saving model to prediction.h5\n",
      "1062/1062 [==============================] - 695s 655ms/step - loss: 0.0227 - accuracy: 0.9916 - val_loss: 0.0492 - val_accuracy: 0.9845\n",
      "Epoch 17/20\n",
      "1062/1062 [==============================] - ETA: 0s - loss: 0.0205 - accuracy: 0.9924\n",
      "Epoch 17: val_accuracy did not improve from 0.98449\n",
      "1062/1062 [==============================] - 694s 653ms/step - loss: 0.0205 - accuracy: 0.9924 - val_loss: 0.0637 - val_accuracy: 0.9798\n",
      "Epoch 18/20\n",
      "1062/1062 [==============================] - ETA: 0s - loss: 0.0202 - accuracy: 0.9926\n",
      "Epoch 18: val_accuracy improved from 0.98449 to 0.98695, saving model to prediction.h5\n",
      "1062/1062 [==============================] - 695s 654ms/step - loss: 0.0202 - accuracy: 0.9926 - val_loss: 0.0431 - val_accuracy: 0.9869\n",
      "Epoch 19/20\n",
      "1062/1062 [==============================] - ETA: 0s - loss: 0.0192 - accuracy: 0.9931\n",
      "Epoch 19: val_accuracy did not improve from 0.98695\n",
      "1062/1062 [==============================] - 704s 663ms/step - loss: 0.0192 - accuracy: 0.9931 - val_loss: 0.0487 - val_accuracy: 0.9848\n",
      "Epoch 20/20\n",
      "1062/1062 [==============================] - ETA: 0s - loss: 0.0199 - accuracy: 0.9925\n",
      "Epoch 20: val_accuracy did not improve from 0.98695\n",
      "1062/1062 [==============================] - 696s 656ms/step - loss: 0.0199 - accuracy: 0.9925 - val_loss: 0.0914 - val_accuracy: 0.9724\n"
     ]
    }
   ],
   "source": [
    "history = model1.fit(X_train, Y_train, epochs = 20, validation_data = (X_test, Y_test), callbacks = [checkpoint])"
   ]
  },
  {
   "cell_type": "code",
   "execution_count": 1,
   "id": "8fdb2fc2",
   "metadata": {},
   "outputs": [
    {
     "name": "stdout",
     "output_type": "stream",
     "text": [
      "detected\n"
     ]
    },
    {
     "ename": "NameError",
     "evalue": "name 'model1' is not defined",
     "output_type": "error",
     "traceback": [
      "\u001b[1;31m---------------------------------------------------------------------------\u001b[0m",
      "\u001b[1;31mNameError\u001b[0m                                 Traceback (most recent call last)",
      "Cell \u001b[1;32mIn[1], line 40\u001b[0m\n\u001b[0;32m     38\u001b[0m final_image \u001b[38;5;241m=\u001b[39m np\u001b[38;5;241m.\u001b[39mexpand_dims(final_image, axis\u001b[38;5;241m=\u001b[39m\u001b[38;5;241m0\u001b[39m)\n\u001b[0;32m     39\u001b[0m final_image \u001b[38;5;241m=\u001b[39m final_image\u001b[38;5;241m/\u001b[39m\u001b[38;5;241m255.0\u001b[39m\n\u001b[1;32m---> 40\u001b[0m Predictions \u001b[38;5;241m=\u001b[39m \u001b[43mmodel1\u001b[49m\u001b[38;5;241m.\u001b[39mpredict(final_image)\n\u001b[0;32m     41\u001b[0m Predictions \u001b[38;5;241m=\u001b[39m np\u001b[38;5;241m.\u001b[39margmax(Predictions)\n\u001b[0;32m     42\u001b[0m \u001b[38;5;28;01mif\u001b[39;00m (Predictions\u001b[38;5;241m==\u001b[39m\u001b[38;5;241m1\u001b[39m):\n",
      "\u001b[1;31mNameError\u001b[0m: name 'model1' is not defined"
     ]
    }
   ],
   "source": [
    "import winsound\n",
    "frequency = 2500  # Set frequency to 2500\n",
    "duration = 1500  # Set duration to 1500 ms == 1.5 sec\n",
    "import numpy as np\n",
    "import cv2\n",
    "path = \"haarcascade_frontalface_default.xml\"\n",
    "faceCascade = cv2.CascadeClassifier(cv2.data.haarcascades + \"haarcascade_frontalface_default.xml\")\n",
    "cap = cv2.VideoCapture(1)\n",
    "#check if webcam is opened correctly\n",
    "if not cap.isOpened():\n",
    "    cap = cv2.VideoCapture(0)\n",
    "cap.set(cv2.CAP_PROP_FPS, 5)\n",
    "counter = 0\n",
    "while True:\n",
    "    ret,frame = cap.read()\n",
    "    eye_cascade = cv2.CascadeClassifier(cv2.data.haarcascades + 'haarcascade_eye.xml')\n",
    "    gray = cv2.cvtColor(frame, cv2.COLOR_BGR2GRAY)\n",
    "    eyes = eye_cascade.detectMultiScale(gray, 1.1, 4)\n",
    "    for x,y,w,h in eyes:\n",
    "        roi_gray = gray[y:y+h, x:x+w]\n",
    "        roi_color = frame[y:y+h, x:x+w]\n",
    "        #cv2.rectangle(frame, (x,y), (x+w,y+h), (0, 255, 0), 2)\n",
    "        eyess = eye_cascade.detectMultiScale(roi_gray)\n",
    "        if len(eyess) == 0:\n",
    "            print(\"Eyes are not detected\")\n",
    "        else:\n",
    "            for (ex, ey, ew, eh) in eyess:\n",
    "                eyes_roi = roi_color[ey: ey+eh, ex: ex+ew]\n",
    "            gray = cv2.cvtColor(frame, cv2.COLOR_BGR2GRAY)\n",
    "            if(faceCascade.empty()==False):\n",
    "                print(\"detected\")\n",
    "            faces = faceCascade.detectMultiScale(gray, 1.1, 4)\n",
    "            # Draw a rectangle around eyes\n",
    "            for (x,y,w,h) in faces:\n",
    "                cv2.rectangle(frame, (x, y), (x+w, y+h), (0, 255, 0), 2)\n",
    "            font = cv2.FONT_HERSHEY_SIMPLEX\n",
    "            final_image = cv2.resize(eyes_roi, (150,150))\n",
    "            final_image = np.expand_dims(final_image, axis=0)\n",
    "            final_image = final_image/255.0\n",
    "            Predictions = model1.predict(final_image)\n",
    "            Predictions = np.argmax(Predictions)\n",
    "            if (Predictions==1):\n",
    "                status = \"Open Eyes\"\n",
    "                cv2.putText(frame,\n",
    "                        status,\n",
    "                        (150,150),\n",
    "                        font, 3,\n",
    "                        (0, 255, 0),\n",
    "                        2,\n",
    "                        cv2.LINE_4)\n",
    "                x1,y1,w1,h1 = 0,0,175,75\n",
    "                #cv2.rectangle(frame, (x1, y1), (x1 + w1, y1 + h1), (0,0,0), -1)\n",
    "                #Add text\n",
    "                cv2.putText(frame, 'Active', (x1 + int(w1/10),y1 + int(h1/2)), cv2.FONT_HERSHEY_SIMPLEX, 0.7, (0,255,0), 2)\n",
    "            else:\n",
    "                counter = counter + 1\n",
    "                status = \"Closed Eyes\"\n",
    "                cv2.putText(frame,\n",
    "                        status,\n",
    "                        (150,150),\n",
    "                        font, 3,\n",
    "                        (0, 0, 255),\n",
    "                        2,\n",
    "                        cv2.LINE_4)\n",
    "                x1,y1,w1,h1 = 0,0,175,75\n",
    "                cv2.rectangle(frame, (x1,y1), (x1 + w1, y1 + h1), (0,0,255), 2)\n",
    "                if counter > 10:\n",
    "                    x1,y1,w1,h1 = 0,0,175,75\n",
    "                    #Draw black background rectangle\n",
    "                    cv2.rectangle(frame, (x1, y1), (x1 + w1, y1 + h1), (0,0,0), -1)\n",
    "                    #Add text\n",
    "                    cv2.putText(frame, \"Sleep Alert !!!\", (x1 + int(w1/10), y1 + int(h1/2)), cv2.FONT_HERSHEY_SIMPLEX, 0.7, (0,0,255), 2)\n",
    "                    winsound.Beep(frequency, duration)\n",
    "                    counter = 0\n",
    "    cv2.imshow(\"Drowsiness Detection\", frame)\n",
    "    if cv2.waitKey(2) & 0xFF == ord('q'):\n",
    "        break\n",
    "cap.release()\n",
    "cv2.destroyAllWindows()"
   ]
  },
  {
   "cell_type": "code",
   "execution_count": null,
   "id": "7e199388",
   "metadata": {},
   "outputs": [],
   "source": []
  }
 ],
 "metadata": {
  "kernelspec": {
   "display_name": "Python 3 (ipykernel)",
   "language": "python",
   "name": "python3"
  },
  "language_info": {
   "codemirror_mode": {
    "name": "ipython",
    "version": 3
   },
   "file_extension": ".py",
   "mimetype": "text/x-python",
   "name": "python",
   "nbconvert_exporter": "python",
   "pygments_lexer": "ipython3",
   "version": "3.8.16"
  }
 },
 "nbformat": 4,
 "nbformat_minor": 5
}
